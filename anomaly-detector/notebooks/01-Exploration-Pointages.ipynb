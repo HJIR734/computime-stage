{
 "cells": [
  {
   "cell_type": "code",
   "execution_count": 4,
   "id": "7ade55b9-5554-423a-ac06-4ad5e4f52ca6",
   "metadata": {},
   "outputs": [
    {
     "name": "stdout",
     "output_type": "stream",
     "text": [
      "Requirement already satisfied: mysql-connector-python in c:\\users\\hjirt\\anaconda1\\lib\\site-packages (9.3.0)\n",
      "Requirement already satisfied: pandas in c:\\users\\hjirt\\anaconda1\\lib\\site-packages (2.2.3)\n",
      "Requirement already satisfied: scikit-learn in c:\\users\\hjirt\\anaconda1\\lib\\site-packages (1.6.1)\n",
      "Requirement already satisfied: numpy>=1.26.0 in c:\\users\\hjirt\\anaconda1\\lib\\site-packages (from pandas) (2.1.3)\n",
      "Requirement already satisfied: python-dateutil>=2.8.2 in c:\\users\\hjirt\\anaconda1\\lib\\site-packages (from pandas) (2.9.0.post0)\n",
      "Requirement already satisfied: pytz>=2020.1 in c:\\users\\hjirt\\anaconda1\\lib\\site-packages (from pandas) (2024.1)\n",
      "Requirement already satisfied: tzdata>=2022.7 in c:\\users\\hjirt\\anaconda1\\lib\\site-packages (from pandas) (2025.2)\n",
      "Requirement already satisfied: scipy>=1.6.0 in c:\\users\\hjirt\\anaconda1\\lib\\site-packages (from scikit-learn) (1.15.3)\n",
      "Requirement already satisfied: joblib>=1.2.0 in c:\\users\\hjirt\\anaconda1\\lib\\site-packages (from scikit-learn) (1.4.2)\n",
      "Requirement already satisfied: threadpoolctl>=3.1.0 in c:\\users\\hjirt\\anaconda1\\lib\\site-packages (from scikit-learn) (3.5.0)\n",
      "Requirement already satisfied: six>=1.5 in c:\\users\\hjirt\\anaconda1\\lib\\site-packages (from python-dateutil>=2.8.2->pandas) (1.17.0)\n"
     ]
    }
   ],
   "source": [
    "# Installation des librairies pour se connecter à MySQL et manipuler les données\n",
    "!pip install mysql-connector-python pandas scikit-learn"
   ]
  },
  {
   "cell_type": "code",
   "execution_count": 5,
   "id": "1aeb4235-a649-4779-893b-a187ebcae75e",
   "metadata": {},
   "outputs": [
    {
     "name": "stdout",
     "output_type": "stream",
     "text": [
      "Extraction réussie !\n",
      "Nombre de pointages pour le badge '1': 264\n",
      "\n",
      "Premières 5 lignes :\n",
      "            date_mouv\n",
      "0 2023-01-20 17:33:08\n",
      "1 2023-01-21 09:12:17\n",
      "2 2023-01-21 11:22:30\n",
      "3 2023-01-23 08:27:08\n",
      "4 2023-01-24 08:38:02\n",
      "\n",
      "Connexion à la base de données fermée.\n"
     ]
    },
    {
     "name": "stderr",
     "output_type": "stream",
     "text": [
      "C:\\Users\\hjirt\\AppData\\Local\\Temp\\ipykernel_33012\\3586285409.py:28: UserWarning: pandas only supports SQLAlchemy connectable (engine/connection) or database string URI or sqlite3 DBAPI2 connection. Other DBAPI2 objects are not tested. Please consider using SQLAlchemy.\n",
      "  df_pointages = pd.read_sql(query, cnx)\n"
     ]
    }
   ],
   "source": [
    "import mysql.connector\n",
    "import pandas as pd\n",
    "\n",
    "# --- Configuration de la connexion à la base de données ---\n",
    "config = {\n",
    "    'user': 'root',\n",
    "    'password': 'root', # METS TON VRAI MOT DE PASSE ICI\n",
    "    'host': '127.0.0.1',\n",
    "    'database': 'sicda_easytime',\n",
    "    'raise_on_warnings': True\n",
    "}\n",
    "\n",
    "# --- Requête SQL pour extraire les pointages d'un employé avec beaucoup de données ---\n",
    "# On choisit l'employé avec le badge '1' car on sait qu'il a beaucoup de pointages\n",
    "badge_a_etudier = '1'\n",
    "query = f\"\"\"\n",
    "    SELECT date_mouv \n",
    "    FROM mouvement \n",
    "    WHERE badge = '{badge_a_etudier}' \n",
    "    ORDER BY date_mouv ASC\n",
    "\"\"\"\n",
    "\n",
    "try:\n",
    "    # Connexion à la base\n",
    "    cnx = mysql.connector.connect(**config)\n",
    "    \n",
    "    # Exécution de la requête et chargement des données dans un DataFrame Pandas\n",
    "    df_pointages = pd.read_sql(query, cnx)\n",
    "    \n",
    "    # Affichage des 5 premières lignes et des informations sur le DataFrame\n",
    "    print(\"Extraction réussie !\")\n",
    "    print(f\"Nombre de pointages pour le badge '{badge_a_etudier}': {len(df_pointages)}\")\n",
    "    print(\"\\nPremières 5 lignes :\")\n",
    "    print(df_pointages.head())\n",
    "    \n",
    "except mysql.connector.Error as err:\n",
    "    print(f\"Erreur de connexion ou d'extraction : {err}\")\n",
    "finally:\n",
    "    # On s'assure de bien fermer la connexion\n",
    "    if 'cnx' in locals() and cnx.is_connected():\n",
    "        cnx.close()\n",
    "        print(\"\\nConnexion à la base de données fermée.\")"
   ]
  },
  {
   "cell_type": "code",
   "execution_count": 6,
   "id": "3620583d-9885-4b1e-9207-1cbdd6b3bc4f",
   "metadata": {},
   "outputs": [
    {
     "name": "stdout",
     "output_type": "stream",
     "text": [
      "DataFrame avec les nouvelles caractéristiques ('features') :\n",
      "            date_mouv        jour  jour_de_semaine  heure_en_secondes\n",
      "0 2023-01-20 17:33:08  2023-01-20                4              63188\n",
      "1 2023-01-21 09:12:17  2023-01-21                5              33137\n",
      "2 2023-01-21 11:22:30  2023-01-21                5              40950\n",
      "3 2023-01-23 08:27:08  2023-01-23                0              30428\n",
      "4 2023-01-24 08:38:02  2023-01-24                1              31082\n",
      "\n",
      "Variables explicatives (X) - 5 premières lignes :\n",
      "   jour_de_semaine  jour_du_mois  semaine_de_annee  mois\n",
      "0                4            20                 3     1\n",
      "1                5            21                 3     1\n",
      "2                5            21                 3     1\n",
      "3                0            23                 4     1\n",
      "4                1            24                 4     1\n",
      "\n",
      "Variable cible (Y) - 5 premières lignes :\n",
      "0    63188\n",
      "1    33137\n",
      "2    40950\n",
      "3    30428\n",
      "4    31082\n",
      "Name: heure_en_secondes, dtype: int32\n"
     ]
    }
   ],
   "source": [
    "import numpy as np\n",
    "\n",
    "# --- Feature Engineering ---\n",
    "\n",
    "# 1. S'assurer que la colonne 'date_mouv' est bien de type datetime\n",
    "df_pointages['date_mouv'] = pd.to_datetime(df_pointages['date_mouv'])\n",
    "\n",
    "# 2. Extraire des caractéristiques temporelles à partir de la date\n",
    "df_pointages['jour_de_semaine'] = df_pointages['date_mouv'].dt.dayofweek # Lundi=0, Dimanche=6\n",
    "df_pointages['jour_du_mois'] = df_pointages['date_mouv'].dt.day\n",
    "df_pointages['semaine_de_annee'] = df_pointages['date_mouv'].dt.isocalendar().week\n",
    "df_pointages['mois'] = df_pointages['date_mouv'].dt.month\n",
    "\n",
    "# 3. La caractéristique la plus importante : l'heure du pointage\n",
    "# On va la convertir en secondes depuis minuit pour avoir une valeur numérique continue.\n",
    "df_pointages['heure_en_secondes'] = df_pointages['date_mouv'].dt.hour * 3600 + \\\n",
    "                                    df_pointages['date_mouv'].dt.minute * 60 + \\\n",
    "                                    df_pointages['date_mouv'].dt.second\n",
    "\n",
    "# 4. Créer une colonne pour le jour \"propre\" (sans l'heure) pour pouvoir grouper les pointages par jour\n",
    "df_pointages['jour'] = df_pointages['date_mouv'].dt.date\n",
    "\n",
    "# --- Afficher le résultat ---\n",
    "print(\"DataFrame avec les nouvelles caractéristiques ('features') :\")\n",
    "# On affiche les colonnes les plus pertinentes\n",
    "print(df_pointages[['date_mouv', 'jour', 'jour_de_semaine', 'heure_en_secondes']].head())\n",
    "\n",
    "# --- Préparer les données pour la prédiction ---\n",
    "# Notre objectif est de prédire 'heure_en_secondes' (Y)\n",
    "# en se basant sur 'jour_de_semaine', 'jour_du_mois', etc. (X)\n",
    "\n",
    "# On sépare nos variables explicatives (X) et notre variable cible (Y)\n",
    "X = df_pointages[['jour_de_semaine', 'jour_du_mois', 'semaine_de_annee', 'mois']]\n",
    "Y = df_pointages['heure_en_secondes']\n",
    "\n",
    "print(\"\\nVariables explicatives (X) - 5 premières lignes :\")\n",
    "print(X.head())\n",
    "\n",
    "print(\"\\nVariable cible (Y) - 5 premières lignes :\")\n",
    "print(Y.head())"
   ]
  },
  {
   "cell_type": "code",
   "execution_count": 7,
   "id": "c9089c9e-0649-4562-8fcd-ab4d7b75dcc0",
   "metadata": {},
   "outputs": [
    {
     "name": "stdout",
     "output_type": "stream",
     "text": [
      "Taille du jeu d'entraînement (train): 211 exemples\n",
      "Taille du jeu de test: 53 exemples\n",
      "\n",
      "Début de l'entraînement du modèle...\n",
      "Entraînement terminé en 0.22 secondes.\n",
      "\n",
      "Évaluation du modèle :\n",
      "Erreur Absolue Moyenne (MAE): 16077.45 secondes\n",
      "Cela correspond à une erreur moyenne de 267.96 minutes.\n",
      "\n",
      "--- TEST DE PRÉDICTION CONCRET ---\n",
      "Pour un nouvel exemple : [[0, 15, 7, 2]]\n",
      "Le modèle prédit une heure de pointage autour de : 13:09:28\n"
     ]
    },
    {
     "name": "stderr",
     "output_type": "stream",
     "text": [
      "C:\\Users\\hjirt\\anaconda1\\Lib\\site-packages\\sklearn\\utils\\validation.py:2739: UserWarning: X does not have valid feature names, but LinearRegression was fitted with feature names\n",
      "  warnings.warn(\n"
     ]
    }
   ],
   "source": [
    "from sklearn.model_selection import train_test_split\n",
    "from sklearn.linear_model import LinearRegression\n",
    "from sklearn.metrics import mean_absolute_error\n",
    "import time\n",
    "\n",
    "# --- Phase 5 : Identification des données d'entraînement et de test ---\n",
    "\n",
    "# On divise nos données en deux groupes :\n",
    "# - 80% pour entraîner le modèle (le \"livre de cours\")\n",
    "# - 20% pour le tester sur des données qu'il n'a jamais vues (l'\"examen\")\n",
    "X_train, X_test, Y_train, Y_test = train_test_split(X, Y, test_size=0.2, random_state=42)\n",
    "\n",
    "print(f\"Taille du jeu d'entraînement (train): {len(X_train)} exemples\")\n",
    "print(f\"Taille du jeu de test: {len(X_test)} exemples\")\n",
    "\n",
    "\n",
    "# --- Phase 4 & 6 : Étude, Configuration et Entraînement du modèle ---\n",
    "\n",
    "# 1. On choisit notre premier modèle : la Régression Linéaire. C'est le plus simple.\n",
    "model = LinearRegression()\n",
    "\n",
    "# 2. On entraîne le modèle. C'est ici que \"l'apprentissage\" se produit.\n",
    "print(\"\\nDébut de l'entraînement du modèle...\")\n",
    "start_time = time.time()\n",
    "model.fit(X_train, Y_train) # Le modèle apprend la relation entre X_train et Y_train\n",
    "end_time = time.time()\n",
    "print(f\"Entraînement terminé en {end_time - start_time:.2f} secondes.\")\n",
    "\n",
    "\n",
    "# --- Phase 8 (partielle) : Prédiction sur le jeu de test ---\n",
    "Y_pred = model.predict(X_test)\n",
    "\n",
    "\n",
    "# --- Phase 7 : Évaluation du modèle ---\n",
    "\n",
    "# On compare les prédictions (Y_pred) avec les vraies valeurs (Y_test).\n",
    "# On calcule l'erreur absolue moyenne : en moyenne, de combien de secondes notre modèle se trompe-t-il ?\n",
    "mae = mean_absolute_error(Y_test, Y_pred)\n",
    "\n",
    "print(f\"\\nÉvaluation du modèle :\")\n",
    "print(f\"Erreur Absolue Moyenne (MAE): {mae:.2f} secondes\")\n",
    "print(f\"Cela correspond à une erreur moyenne de {mae/60:.2f} minutes.\")\n",
    "\n",
    "\n",
    "# --- Phase 8 : Prédiction sur un nouvel exemple ---\n",
    "\n",
    "# Imaginons qu'on veuille prédire l'heure d'un pointage manquant un Lundi (0),\n",
    "# le 15ème jour du mois, pendant la 7ème semaine de l'année, au mois de Février (2).\n",
    "nouvel_exemple = [[0, 15, 7, 2]] \n",
    "\n",
    "prediction_secondes = model.predict(nouvel_exemple)[0]\n",
    "\n",
    "# On reconvertit les secondes en un format lisible (HH:MM:SS)\n",
    "heures = int(prediction_secondes / 3600)\n",
    "minutes = int((prediction_secondes % 3600) / 60)\n",
    "secondes = int(prediction_secondes % 60)\n",
    "\n",
    "print(\"\\n--- TEST DE PRÉDICTION CONCRET ---\")\n",
    "print(f\"Pour un nouvel exemple : {nouvel_exemple}\")\n",
    "print(f\"Le modèle prédit une heure de pointage autour de : {heures:02d}:{minutes:02d}:{secondes:02d}\")"
   ]
  },
  {
   "cell_type": "code",
   "execution_count": 8,
   "id": "dfb42b5f-84d5-4637-9548-f3d9f24ebda2",
   "metadata": {},
   "outputs": [
    {
     "name": "stdout",
     "output_type": "stream",
     "text": [
      "Nombre de pointages d'ENTRÉE: 143\n",
      "Nombre de pointages de SORTIE: 121\n",
      "\n",
      "Exemple de pointages d'entrée :\n",
      "            date_mouv  heure_en_secondes\n",
      "0 2023-01-20 17:33:08              63188\n",
      "1 2023-01-21 09:12:17              33137\n",
      "3 2023-01-23 08:27:08              30428\n",
      "4 2023-01-24 08:38:02              31082\n",
      "6 2023-01-25 08:31:42              30702\n",
      "\n",
      "Exemple de pointages de sortie :\n",
      "             date_mouv  heure_en_secondes\n",
      "2  2023-01-21 11:22:30              40950\n",
      "5  2023-01-24 17:34:03              63243\n",
      "7  2023-01-25 17:31:59              63119\n",
      "9  2023-01-26 17:40:22              63622\n",
      "12 2023-01-30 17:29:13              62953\n",
      "\n",
      "--- Évaluation du MODÈLE D'ENTRÉE ---\n",
      "Nouvelle Erreur Absolue Moyenne (MAE): 3956.38 secondes\n",
      "Cela correspond à une erreur moyenne de 65.94 minutes.\n",
      "Le modèle d'ENTRÉE prédit une heure d'arrivée autour de : 08:52\n"
     ]
    },
    {
     "name": "stderr",
     "output_type": "stream",
     "text": [
      "C:\\Users\\hjirt\\anaconda1\\Lib\\site-packages\\sklearn\\utils\\validation.py:2739: UserWarning: X does not have valid feature names, but LinearRegression was fitted with feature names\n",
      "  warnings.warn(\n"
     ]
    }
   ],
   "source": [
    "# --- Amélioration du modèle : Séparation Entrée / Sortie ---\n",
    "\n",
    "# Pour l'instant, nous n'avons pas cette information dans la base.\n",
    "# On va donc faire une supposition simple :\n",
    "# Pour un jour donné, le premier pointage est une ENTRÉE, le deuxième une SORTIE,\n",
    "# le troisième une ENTRÉE (retour de pause), etc.\n",
    "\n",
    "# On numérote les pointages pour chaque jour\n",
    "df_pointages['num_pointage_jour'] = df_pointages.groupby('jour').cumcount() + 1\n",
    "\n",
    "# On identifie les entrées (pointages impairs : 1, 3, ...) et les sorties (pairs : 2, 4, ...)\n",
    "df_pointages_entree = df_pointages[df_pointages['num_pointage_jour'] % 2 != 0].copy()\n",
    "df_pointages_sortie = df_pointages[df_pointages['num_pointage_jour'] % 2 == 0].copy()\n",
    "\n",
    "print(\"Nombre de pointages d'ENTRÉE:\", len(df_pointages_entree))\n",
    "print(\"Nombre de pointages de SORTIE:\", len(df_pointages_sortie))\n",
    "\n",
    "print(\"\\nExemple de pointages d'entrée :\")\n",
    "print(df_pointages_entree[['date_mouv', 'heure_en_secondes']].head())\n",
    "\n",
    "print(\"\\nExemple de pointages de sortie :\")\n",
    "print(df_pointages_sortie[['date_mouv', 'heure_en_secondes']].head())\n",
    "\n",
    "# --- Entraînons un modèle UNIQUEMENT sur les ENTRÉES ---\n",
    "\n",
    "# 1. Préparer X et Y pour le modèle d'entrée\n",
    "X_entree = df_pointages_entree[['jour_de_semaine', 'jour_du_mois', 'semaine_de_annee', 'mois']]\n",
    "Y_entree = df_pointages_entree['heure_en_secondes']\n",
    "\n",
    "# 2. Séparer en train/test\n",
    "X_train_e, X_test_e, Y_train_e, Y_test_e = train_test_split(X_entree, Y_entree, test_size=0.2, random_state=42)\n",
    "\n",
    "# 3. Créer et entraîner le modèle d'entrée\n",
    "model_entree = LinearRegression()\n",
    "model_entree.fit(X_train_e, Y_train_e)\n",
    "\n",
    "# 4. Évaluer le modèle d'entrée\n",
    "Y_pred_e = model_entree.predict(X_test_e)\n",
    "mae_e = mean_absolute_error(Y_test_e, Y_pred_e)\n",
    "\n",
    "print(f\"\\n--- Évaluation du MODÈLE D'ENTRÉE ---\")\n",
    "print(f\"Nouvelle Erreur Absolue Moyenne (MAE): {mae_e:.2f} secondes\")\n",
    "print(f\"Cela correspond à une erreur moyenne de {mae_e/60:.2f} minutes.\")\n",
    "\n",
    "# 5. Prédiction avec le nouveau modèle\n",
    "prediction_entree = model_entree.predict(nouvel_exemple)[0]\n",
    "heures_e = int(prediction_entree / 3600)\n",
    "minutes_e = int((prediction_entree % 3600) / 60)\n",
    "print(f\"Le modèle d'ENTRÉE prédit une heure d'arrivée autour de : {heures_e:02d}:{minutes_e:02d}\")"
   ]
  },
  {
   "cell_type": "code",
   "execution_count": 9,
   "id": "883f712d-907f-4d78-b27a-ec143724b3f1",
   "metadata": {},
   "outputs": [
    {
     "name": "stdout",
     "output_type": "stream",
     "text": [
      "Dossier '../models' créé.\n",
      "\n",
      "Modèle sauvegardé avec succès dans : ../models\\model_prediction_entree.pkl\n"
     ]
    }
   ],
   "source": [
    "import joblib\n",
    "import os\n",
    "\n",
    "# --- Sauvegarde du modèle entraîné ---\n",
    "\n",
    "# Nom du fichier dans lequel on va sauvegarder le modèle\n",
    "nom_fichier_modele = 'model_prediction_entree.pkl'\n",
    "\n",
    "# Créer un dossier 'models' s'il n'existe pas, à la racine du projet\n",
    "# (au même niveau que 'src' et 'notebooks')\n",
    "dossier_models = '../models' # '../' signifie 'remonter d'un dossier' depuis 'notebooks'\n",
    "if not os.path.exists(dossier_models):\n",
    "    os.makedirs(dossier_models)\n",
    "    print(f\"Dossier '{dossier_models}' créé.\")\n",
    "\n",
    "chemin_complet = os.path.join(dossier_models, nom_fichier_modele)\n",
    "\n",
    "# Sauvegarde de l'objet 'model_entree' dans le fichier\n",
    "joblib.dump(model_entree, chemin_complet)\n",
    "\n",
    "print(f\"\\nModèle sauvegardé avec succès dans : {chemin_complet}\")"
   ]
  },
  {
   "cell_type": "code",
   "execution_count": 10,
   "id": "b1fe8933-fd88-4eb7-811c-6207bb10ea80",
   "metadata": {},
   "outputs": [],
   "source": [
    "!pip freeze > ../requirements.txt"
   ]
  },
  {
   "cell_type": "code",
   "execution_count": 11,
   "id": "ab3ad6ca-fc2f-48fa-bc6b-8eaa5fd32c38",
   "metadata": {},
   "outputs": [
    {
     "name": "stdout",
     "output_type": "stream",
     "text": [
      "Collecting joblib==1.3.2\n",
      "  Downloading joblib-1.3.2-py3-none-any.whl.metadata (5.4 kB)\n",
      "Downloading joblib-1.3.2-py3-none-any.whl (302 kB)\n",
      "Installing collected packages: joblib\n",
      "  Attempting uninstall: joblib\n",
      "    Found existing installation: joblib 1.4.2\n",
      "    Uninstalling joblib-1.4.2:\n",
      "      Successfully uninstalled joblib-1.4.2\n",
      "Successfully installed joblib-1.3.2\n",
      "Modèle re-sauvegardé avec succès dans : ../models\\model_prediction_entree.pkl en utilisant joblib version 1.4.2\n"
     ]
    }
   ],
   "source": [
    "# Force la réinstallation de joblib pour être sûr d'avoir une version standard\n",
    "!pip install --force-reinstall joblib==1.3.2\n",
    "\n",
    "# Ré-import pour être sûr d'utiliser la nouvelle version\n",
    "import joblib\n",
    "\n",
    "# On re-sauvegarde le modèle avec cette version spécifique de joblib\n",
    "# Le reste du code est le même qu'avant\n",
    "nom_fichier_modele = 'model_prediction_entree.pkl'\n",
    "dossier_models = '../models'\n",
    "chemin_complet = os.path.join(dossier_models, nom_fichier_modele)\n",
    "joblib.dump(model_entree, chemin_complet)\n",
    "\n",
    "print(f\"Modèle re-sauvegardé avec succès dans : {chemin_complet} en utilisant joblib version {joblib.__version__}\")"
   ]
  },
  {
   "cell_type": "code",
   "execution_count": null,
   "id": "da8aaaf1-a000-451e-8f18-c9cfb71e6d61",
   "metadata": {},
   "outputs": [],
   "source": []
  }
 ],
 "metadata": {
  "kernelspec": {
   "display_name": "Python 3 (ipykernel)",
   "language": "python",
   "name": "python3"
  },
  "language_info": {
   "codemirror_mode": {
    "name": "ipython",
    "version": 3
   },
   "file_extension": ".py",
   "mimetype": "text/x-python",
   "name": "python",
   "nbconvert_exporter": "python",
   "pygments_lexer": "ipython3",
   "version": "3.13.5"
  }
 },
 "nbformat": 4,
 "nbformat_minor": 5
}
