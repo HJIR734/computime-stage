{
 "cells": [
  {
   "cell_type": "code",
   "execution_count": 35,
   "id": "a71bf6cf-090d-44eb-8dae-7aae768797fb",
   "metadata": {},
   "outputs": [
    {
     "name": "stdout",
     "output_type": "stream",
     "text": [
      "Librairies importées avec succès.\n"
     ]
    }
   ],
   "source": [
    "import pandas as pd\n",
    "from sklearn.model_selection import train_test_split\n",
    "from sklearn.ensemble import RandomForestClassifier\n",
    "from sklearn.metrics import classification_report, accuracy_score, confusion_matrix\n",
    "import seaborn as sns\n",
    "import matplotlib.pyplot as plt\n",
    "from lightgbm import LGBMClassifier\n",
    "import joblib # Pour sauvegarder notre modèle\n",
    "\n",
    "print(\"Librairies importées avec succès.\")"
   ]
  },
  {
   "cell_type": "code",
   "execution_count": 36,
   "id": "d8cb956d-5e68-4223-a9b0-7c0043b461e5",
   "metadata": {},
   "outputs": [
    {
     "name": "stdout",
     "output_type": "stream",
     "text": [
      "Dataset chargé avec succès. Il contient 6734 lignes et 12 colonnes.\n",
      "\n",
      "Types de données :\n",
      "<class 'pandas.core.frame.DataFrame'>\n",
      "RangeIndex: 6734 entries, 0 to 6733\n",
      "Data columns (total 12 columns):\n",
      " #   Column            Non-Null Count  Dtype \n",
      "---  ------            --------------  ----- \n",
      " 0   employe_id        6734 non-null   int64 \n",
      " 1   date              6734 non-null   object\n",
      " 2   jour_semaine      6734 non-null   int64 \n",
      " 3   jour_mois         6734 non-null   int64 \n",
      " 4   mois              6734 non-null   int64 \n",
      " 5   semaine_annee     6734 non-null   int64 \n",
      " 6   profil_metier_id  6734 non-null   int64 \n",
      " 7   noeud_id          6734 non-null   int64 \n",
      " 8   est_ferie         6734 non-null   int64 \n",
      " 9   veille_ferie      6734 non-null   int64 \n",
      " 10  lendemain_ferie   6734 non-null   int64 \n",
      " 11  est_absent        6734 non-null   int64 \n",
      "dtypes: int64(11), object(1)\n",
      "memory usage: 631.4+ KB\n",
      "\n",
      "Cinq premières lignes du dataset :\n"
     ]
    },
    {
     "data": {
      "text/html": [
       "<div>\n",
       "<style scoped>\n",
       "    .dataframe tbody tr th:only-of-type {\n",
       "        vertical-align: middle;\n",
       "    }\n",
       "\n",
       "    .dataframe tbody tr th {\n",
       "        vertical-align: top;\n",
       "    }\n",
       "\n",
       "    .dataframe thead th {\n",
       "        text-align: right;\n",
       "    }\n",
       "</style>\n",
       "<table border=\"1\" class=\"dataframe\">\n",
       "  <thead>\n",
       "    <tr style=\"text-align: right;\">\n",
       "      <th></th>\n",
       "      <th>employe_id</th>\n",
       "      <th>date</th>\n",
       "      <th>jour_semaine</th>\n",
       "      <th>jour_mois</th>\n",
       "      <th>mois</th>\n",
       "      <th>semaine_annee</th>\n",
       "      <th>profil_metier_id</th>\n",
       "      <th>noeud_id</th>\n",
       "      <th>est_ferie</th>\n",
       "      <th>veille_ferie</th>\n",
       "      <th>lendemain_ferie</th>\n",
       "      <th>est_absent</th>\n",
       "    </tr>\n",
       "  </thead>\n",
       "  <tbody>\n",
       "    <tr>\n",
       "      <th>0</th>\n",
       "      <td>1</td>\n",
       "      <td>2023-07-24</td>\n",
       "      <td>0</td>\n",
       "      <td>24</td>\n",
       "      <td>7</td>\n",
       "      <td>30</td>\n",
       "      <td>67</td>\n",
       "      <td>27</td>\n",
       "      <td>0</td>\n",
       "      <td>0</td>\n",
       "      <td>0</td>\n",
       "      <td>0</td>\n",
       "    </tr>\n",
       "    <tr>\n",
       "      <th>1</th>\n",
       "      <td>1</td>\n",
       "      <td>2023-07-25</td>\n",
       "      <td>1</td>\n",
       "      <td>25</td>\n",
       "      <td>7</td>\n",
       "      <td>30</td>\n",
       "      <td>67</td>\n",
       "      <td>27</td>\n",
       "      <td>0</td>\n",
       "      <td>0</td>\n",
       "      <td>0</td>\n",
       "      <td>0</td>\n",
       "    </tr>\n",
       "    <tr>\n",
       "      <th>2</th>\n",
       "      <td>1</td>\n",
       "      <td>2023-07-26</td>\n",
       "      <td>2</td>\n",
       "      <td>26</td>\n",
       "      <td>7</td>\n",
       "      <td>30</td>\n",
       "      <td>67</td>\n",
       "      <td>27</td>\n",
       "      <td>0</td>\n",
       "      <td>0</td>\n",
       "      <td>0</td>\n",
       "      <td>0</td>\n",
       "    </tr>\n",
       "    <tr>\n",
       "      <th>3</th>\n",
       "      <td>1</td>\n",
       "      <td>2023-07-27</td>\n",
       "      <td>3</td>\n",
       "      <td>27</td>\n",
       "      <td>7</td>\n",
       "      <td>30</td>\n",
       "      <td>67</td>\n",
       "      <td>27</td>\n",
       "      <td>0</td>\n",
       "      <td>0</td>\n",
       "      <td>0</td>\n",
       "      <td>0</td>\n",
       "    </tr>\n",
       "    <tr>\n",
       "      <th>4</th>\n",
       "      <td>1</td>\n",
       "      <td>2023-07-28</td>\n",
       "      <td>4</td>\n",
       "      <td>28</td>\n",
       "      <td>7</td>\n",
       "      <td>30</td>\n",
       "      <td>67</td>\n",
       "      <td>27</td>\n",
       "      <td>0</td>\n",
       "      <td>0</td>\n",
       "      <td>0</td>\n",
       "      <td>0</td>\n",
       "    </tr>\n",
       "  </tbody>\n",
       "</table>\n",
       "</div>"
      ],
      "text/plain": [
       "   employe_id        date  jour_semaine  jour_mois  mois  semaine_annee  \\\n",
       "0           1  2023-07-24             0         24     7             30   \n",
       "1           1  2023-07-25             1         25     7             30   \n",
       "2           1  2023-07-26             2         26     7             30   \n",
       "3           1  2023-07-27             3         27     7             30   \n",
       "4           1  2023-07-28             4         28     7             30   \n",
       "\n",
       "   profil_metier_id  noeud_id  est_ferie  veille_ferie  lendemain_ferie  \\\n",
       "0                67        27          0             0                0   \n",
       "1                67        27          0             0                0   \n",
       "2                67        27          0             0                0   \n",
       "3                67        27          0             0                0   \n",
       "4                67        27          0             0                0   \n",
       "\n",
       "   est_absent  \n",
       "0           0  \n",
       "1           0  \n",
       "2           0  \n",
       "3           0  \n",
       "4           0  "
      ]
     },
     "execution_count": 36,
     "metadata": {},
     "output_type": "execute_result"
    }
   ],
   "source": [
    "# Chemin vers notre dataset\n",
    "# Il est dans le dossier 'data' à côté de ce notebook\n",
    "DATASET_PATH = 'data/dataset_absences.csv'\n",
    "\n",
    "# Charger les données dans un DataFrame Pandas\n",
    "df = pd.read_csv(DATASET_PATH)\n",
    "\n",
    "print(f\"Dataset chargé avec succès. Il contient {len(df)} lignes et {len(df.columns)} colonnes.\")\n",
    "print(\"\\nTypes de données :\")\n",
    "df.info()\n",
    "\n",
    "print(\"\\nCinq premières lignes du dataset :\")\n",
    "df.head()"
   ]
  },
  {
   "cell_type": "code",
   "execution_count": 37,
   "id": "5f41dcda-798a-4018-85e4-81e6b9357d6f",
   "metadata": {},
   "outputs": [
    {
     "name": "stdout",
     "output_type": "stream",
     "text": [
      "Colonnes de Features (X):\n",
      "['jour_semaine', 'jour_mois', 'mois', 'semaine_annee', 'profil_metier_id', 'noeud_id', 'est_ferie', 'veille_ferie', 'lendemain_ferie']\n",
      "\n",
      "Dimensions de X: (6734, 9)\n",
      "\n",
      "Colonne Cible (y):\n",
      "est_absent\n",
      "Dimensions de y: (6734,)\n"
     ]
    }
   ],
   "source": [
    "# Définir la colonne cible (ce qu'on veut prédire)\n",
    "TARGET_COLUMN = 'est_absent'\n",
    "\n",
    "# Définir les colonnes de features (tout SAUF la cible et les identifiants)\n",
    "# On exclut 'employe_id' et 'date' car ce ne sont pas des caractéristiques pour le modèle,\n",
    "# mais des identifiants.\n",
    "FEATURES_COLUMNS = [col for col in df.columns if col not in [TARGET_COLUMN, 'employe_id', 'date']]\n",
    "\n",
    "# Créer nos matrices X et y\n",
    "X = df[FEATURES_COLUMNS]\n",
    "y = df[TARGET_COLUMN]\n",
    "\n",
    "print(\"Colonnes de Features (X):\")\n",
    "print(X.columns.tolist())\n",
    "print(f\"\\nDimensions de X: {X.shape}\")\n",
    "\n",
    "print(\"\\nColonne Cible (y):\")\n",
    "print(y.name)\n",
    "print(f\"Dimensions de y: {y.shape}\")"
   ]
  },
  {
   "cell_type": "code",
   "execution_count": 38,
   "id": "c004fdcf-b8d1-4c1f-a9f9-1e30bac8b58a",
   "metadata": {},
   "outputs": [
    {
     "name": "stdout",
     "output_type": "stream",
     "text": [
      "Taille du set d'entraînement (X_train): (5387, 9)\n",
      "Taille du set de test (X_test): (1347, 9)\n"
     ]
    }
   ],
   "source": [
    "# Séparer le dataset en 80% pour l'entraînement et 20% pour le test\n",
    "# stratify=y est très important : il s'assure qu'on a la même proportion\n",
    "# d'absents et de non-absents dans les deux sets.\n",
    "X_train, X_test, y_train, y_test = train_test_split(\n",
    "    X, y, \n",
    "    test_size=0.2, \n",
    "    random_state=42, # Pour que le résultat soit reproductible\n",
    "    stratify=y\n",
    ")\n",
    "\n",
    "print(f\"Taille du set d'entraînement (X_train): {X_train.shape}\")\n",
    "print(f\"Taille du set de test (X_test): {X_test.shape}\")"
   ]
  },
  {
   "cell_type": "code",
   "execution_count": 39,
   "id": "82909e55-eb62-4150-a87a-30ae2066f835",
   "metadata": {},
   "outputs": [
    {
     "name": "stdout",
     "output_type": "stream",
     "text": [
      "--- Étape 5: Entraînement du modèle LightGBM ---\n",
      "Ratio pour le rééquilibrage (scale_pos_weight): 64.70\n",
      "[LightGBM] [Info] Number of positive: 82, number of negative: 5305\n",
      "[LightGBM] [Info] Auto-choosing col-wise multi-threading, the overhead of testing was 0.000669 seconds.\n",
      "You can set `force_col_wise=true` to remove the overhead.\n",
      "[LightGBM] [Info] Total Bins 114\n",
      "[LightGBM] [Info] Number of data points in the train set: 5387, number of used features: 6\n",
      "[LightGBM] [Info] [binary:BoostFromScore]: pavg=0.015222 -> initscore=-4.169686\n",
      "[LightGBM] [Info] Start training from score -4.169686\n",
      "[LightGBM] [Warning] No further splits with positive gain, best gain: -inf\n",
      "\n",
      "Entraînement terminé !\n"
     ]
    }
   ],
   "source": [
    "# REMPLACE TOUT LE CONTENU DE LA CELLULE 5 PAR CECI\n",
    "\n",
    "print(\"--- Étape 5: Entraînement du modèle LightGBM ---\")\n",
    "\n",
    "# Calculer le ratio pour le déséquilibre de classe\n",
    "# C'est une méthode plus robuste que 'balanced'\n",
    "count_neg, count_pos = y_train.value_counts()\n",
    "scale_pos_weight_value = count_neg / count_pos\n",
    "print(f\"Ratio pour le rééquilibrage (scale_pos_weight): {scale_pos_weight_value:.2f}\")\n",
    "\n",
    "\n",
    "# Créer une instance du classificateur LightGBM\n",
    "model = LGBMClassifier(\n",
    "    objective='binary',\n",
    "    n_estimators=100,\n",
    "    random_state=42,\n",
    "    scale_pos_weight=scale_pos_weight_value # <-- On utilise cette option puissante\n",
    ")\n",
    "\n",
    "# Entraîner le modèle sur les données D'ORIGINE (pas besoin de SMOTE avec cette méthode)\n",
    "# .fit() signifie \"ajuster\" ou \"apprendre\".\n",
    "model.fit(X_train, y_train)\n",
    "\n",
    "print(\"\\nEntraînement terminé !\")"
   ]
  },
  {
   "cell_type": "code",
   "execution_count": 40,
   "id": "efc839c5-1f03-40bc-bfd3-102c75bdb243",
   "metadata": {},
   "outputs": [
    {
     "name": "stdout",
     "output_type": "stream",
     "text": [
      "--- Étape 6: Évaluation du modèle sur le set de test ---\n",
      "\n",
      "Rapport de Classification :\n",
      "\n",
      "              precision    recall  f1-score   support\n",
      "\n",
      "           0       0.99      0.97      0.98      1326\n",
      "           1       0.15      0.33      0.21        21\n",
      "\n",
      "    accuracy                           0.96      1347\n",
      "   macro avg       0.57      0.65      0.59      1347\n",
      "weighted avg       0.98      0.96      0.97      1347\n",
      "\n",
      "\n",
      "Matrice de Confusion :\n"
     ]
    },
    {
     "data": {
      "image/png": "[encoded data removed]",
      "text/plain": [
       "<Figure size 640x480 with 2 Axes>"
      ]
     },
     "metadata": {},
     "output_type": "display_data"
    }
   ],
   "source": [
    "print(\"--- Étape 6: Évaluation du modèle sur le set de test ---\")\n",
    "\n",
    "# Faire des prédictions sur les données de test\n",
    "y_pred = model.predict(X_test)\n",
    "\n",
    "# Afficher le rapport de classification\n",
    "# C'est le résumé le plus complet de la performance\n",
    "print(\"\\nRapport de Classification :\\n\")\n",
    "print(classification_report(y_test, y_pred))\n",
    "\n",
    "# Afficher la matrice de confusion\n",
    "# C'est une visualisation très utile\n",
    "print(\"\\nMatrice de Confusion :\")\n",
    "cm = confusion_matrix(y_test, y_pred)\n",
    "sns.heatmap(cm, annot=True, fmt='d', cmap='Blues')\n",
    "plt.xlabel('Prédiction')\n",
    "plt.ylabel('Vraie valeur')\n",
    "plt.show()"
   ]
  },
  {
   "cell_type": "code",
   "execution_count": 41,
   "id": "bc665d46-0efc-4009-af5c-55bbe808984a",
   "metadata": {},
   "outputs": [
    {
     "name": "stdout",
     "output_type": "stream",
     "text": [
      "--- Étape 7: Sauvegarde du modèle entraîné ---\n",
      "\n",
      "Modèle sauvegardé avec succès dans : ../models/absence_predictor_model.pkl\n",
      "\n",
      "Modèle rechargé avec succès pour vérification.\n",
      "LGBMClassifier(objective='binary', random_state=42,\n",
      "               scale_pos_weight=64.6951219512195)\n"
     ]
    }
   ],
   "source": [
    "print(\"--- Étape 7: Sauvegarde du modèle entraîné ---\")\n",
    "\n",
    "# Définir le chemin où sauvegarder le modèle\n",
    "# On le met dans le dossier 'models' que tu as déjà.\n",
    "MODEL_PATH = '../models/absence_predictor_model.pkl'\n",
    "\n",
    "# Sauvegarder l'objet 'model' dans le fichier\n",
    "joblib.dump(model, MODEL_PATH)\n",
    "\n",
    "print(f\"\\nModèle sauvegardé avec succès dans : {MODEL_PATH}\")\n",
    "\n",
    "# Vérification (optionnelle) : on essaie de le recharger pour être sûr\n",
    "loaded_model = joblib.load(MODEL_PATH)\n",
    "print(\"\\nModèle rechargé avec succès pour vérification.\")\n",
    "print(loaded_model)"
   ]
  },
  {
   "cell_type": "code",
   "execution_count": null,
   "id": "3632596f-cd0e-4cbc-910d-bd01d6924cb4",
   "metadata": {},
   "outputs": [],
   "source": []
  }
 ],
 "metadata": {
  "kernelspec": {
   "display_name": "Python 3 (ipykernel)",
   "language": "python",
   "name": "python3"
  },
  "language_info": {
   "codemirror_mode": {
    "name": "ipython",
    "version": 3
   },
   "file_extension": ".py",
   "mimetype": "text/x-python",
   "name": "python",
   "nbconvert_exporter": "python",
   "pygments_lexer": "ipython3",
   "version": "3.13.5"
  }
 },
 "nbformat": 4,
 "nbformat_minor": 5
}
