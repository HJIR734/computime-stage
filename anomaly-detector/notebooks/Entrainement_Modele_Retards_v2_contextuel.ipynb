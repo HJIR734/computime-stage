{
 "cells": [
  {
   "cell_type": "code",
   "execution_count": 1,
   "id": "604e3918-87d8-476f-90c2-822eb35f9ed0",
   "metadata": {},
   "outputs": [
    {
     "name": "stdout",
     "output_type": "stream",
     "text": [
      "Connexion à la base de données réussie !\n"
     ]
    }
   ],
   "source": [
    "import pandas as pd\n",
    "import numpy as np\n",
    "import pymysql\n",
    "from sqlalchemy import create_engine\n",
    "import random\n",
    "from sklearn.model_selection import train_test_split\n",
    "from sklearn.linear_model import LogisticRegression\n",
    "from sklearn.metrics import classification_report\n",
    "import pickle\n",
    "\n",
    "# --- Paramètres de connexion à la base de données ---\n",
    "# (Remplace par tes propres informations)\n",
    "db_user = 'root'\n",
    "db_password = 'root'\n",
    "db_host = 'localhost'\n",
    "db_port = '3306'\n",
    "db_name = 'sicda_easytime'\n",
    "\n",
    "# Création du moteur de connexion SQLAlchemy\n",
    "try:\n",
    "    engine = create_engine(f\"mysql+pymysql://{db_user}:{db_password}@{db_host}:{db_port}/{db_name}\")\n",
    "    print(\"Connexion à la base de données réussie !\")\n",
    "except Exception as e:\n",
    "    print(f\"Erreur de connexion : {e}\")"
   ]
  },
  {
   "cell_type": "code",
   "execution_count": 2,
   "id": "98c7f479-d5f8-4c79-b4f4-0e827412231b",
   "metadata": {},
   "outputs": [
    {
     "name": "stdout",
     "output_type": "stream",
     "text": [
      "Dataset généré et sauvegardé dans 'dataset_retards_contextuel.csv'\n"
     ]
    },
    {
     "data": {
      "text/html": [
       "<div>\n",
       "<style scoped>\n",
       "    .dataframe tbody tr th:only-of-type {\n",
       "        vertical-align: middle;\n",
       "    }\n",
       "\n",
       "    .dataframe tbody tr th {\n",
       "        vertical-align: top;\n",
       "    }\n",
       "\n",
       "    .dataframe thead th {\n",
       "        text-align: right;\n",
       "    }\n",
       "</style>\n",
       "<table border=\"1\" class=\"dataframe\">\n",
       "  <thead>\n",
       "    <tr style=\"text-align: right;\">\n",
       "      <th></th>\n",
       "      <th>duree_retard_minutes</th>\n",
       "      <th>nb_retards_mois_precedent</th>\n",
       "      <th>charge_travail_equipe_jour</th>\n",
       "      <th>est_debut_semaine</th>\n",
       "      <th>decision_reelle</th>\n",
       "    </tr>\n",
       "  </thead>\n",
       "  <tbody>\n",
       "    <tr>\n",
       "      <th>0</th>\n",
       "      <td>1</td>\n",
       "      <td>7</td>\n",
       "      <td>0.56</td>\n",
       "      <td>0</td>\n",
       "      <td>1</td>\n",
       "    </tr>\n",
       "    <tr>\n",
       "      <th>1</th>\n",
       "      <td>30</td>\n",
       "      <td>7</td>\n",
       "      <td>0.31</td>\n",
       "      <td>0</td>\n",
       "      <td>0</td>\n",
       "    </tr>\n",
       "    <tr>\n",
       "      <th>2</th>\n",
       "      <td>3</td>\n",
       "      <td>3</td>\n",
       "      <td>0.38</td>\n",
       "      <td>0</td>\n",
       "      <td>1</td>\n",
       "    </tr>\n",
       "    <tr>\n",
       "      <th>3</th>\n",
       "      <td>30</td>\n",
       "      <td>5</td>\n",
       "      <td>0.96</td>\n",
       "      <td>0</td>\n",
       "      <td>0</td>\n",
       "    </tr>\n",
       "    <tr>\n",
       "      <th>4</th>\n",
       "      <td>27</td>\n",
       "      <td>8</td>\n",
       "      <td>0.66</td>\n",
       "      <td>1</td>\n",
       "      <td>0</td>\n",
       "    </tr>\n",
       "  </tbody>\n",
       "</table>\n",
       "</div>"
      ],
      "text/plain": [
       "   duree_retard_minutes  nb_retards_mois_precedent  \\\n",
       "0                     1                          7   \n",
       "1                    30                          7   \n",
       "2                     3                          3   \n",
       "3                    30                          5   \n",
       "4                    27                          8   \n",
       "\n",
       "   charge_travail_equipe_jour  est_debut_semaine  decision_reelle  \n",
       "0                        0.56                  0                1  \n",
       "1                        0.31                  0                0  \n",
       "2                        0.38                  0                1  \n",
       "3                        0.96                  0                0  \n",
       "4                        0.66                  1                0  "
      ]
     },
     "execution_count": 2,
     "metadata": {},
     "output_type": "execute_result"
    }
   ],
   "source": [
    "# --- Génération des données synthétiques ---\n",
    "\n",
    "num_samples = 2000  # Nombre d'exemples à générer\n",
    "data = []\n",
    "\n",
    "for _ in range(num_samples):\n",
    "    duree_retard_minutes = random.randint(1, 60)\n",
    "    nb_retards_mois_precedent = random.randint(0, 8)\n",
    "    charge_travail_equipe_jour = round(random.uniform(0.1, 1.0), 2)\n",
    "    est_debut_semaine = random.choice([0, 1]) # 1 pour Lundi, 0 sinon\n",
    "\n",
    "    # Règle métier pour la décision réelle (notre \"vérité terrain\")\n",
    "    # On tolère plus facilement les petits retards si l'employé n'est pas un récidiviste\n",
    "    # et si la charge de travail n'est pas critique.\n",
    "    decision_reelle = 0  # 0 = Justification requise (par défaut)\n",
    "    if duree_retard_minutes <= 15 and nb_retards_mois_precedent <= 2 and charge_travail_equipe_jour < 0.8:\n",
    "        decision_reelle = 1 # 1 = Tolérer\n",
    "    elif duree_retard_minutes <= 5: # On tolère toujours les très petits retards\n",
    "        decision_reelle = 1\n",
    "\n",
    "    data.append([\n",
    "        duree_retard_minutes,\n",
    "        nb_retards_mois_precedent,\n",
    "        charge_travail_equipe_jour,\n",
    "        est_debut_semaine,\n",
    "        decision_reelle\n",
    "    ])\n",
    "\n",
    "# Création du DataFrame\n",
    "columns = [\n",
    "    'duree_retard_minutes', \n",
    "    'nb_retards_mois_precedent', \n",
    "    'charge_travail_equipe_jour', \n",
    "    'est_debut_semaine', \n",
    "    'decision_reelle'\n",
    "]\n",
    "df_retards = pd.DataFrame(data, columns=columns)\n",
    "\n",
    "# Sauvegarde du dataset pour une utilisation future\n",
    "df_retards.to_csv('dataset_retards_contextuel.csv', index=False)\n",
    "\n",
    "print(\"Dataset généré et sauvegardé dans 'dataset_retards_contextuel.csv'\")\n",
    "df_retards.head()"
   ]
  },
  {
   "cell_type": "code",
   "execution_count": 3,
   "id": "b548516d-a57f-410a-bcf8-e7fcd79b896e",
   "metadata": {},
   "outputs": [
    {
     "name": "stdout",
     "output_type": "stream",
     "text": [
      "Modèle entraîné avec succès !\n",
      "\n",
      "Rapport de classification sur l'ensemble de test :\n",
      "              precision    recall  f1-score   support\n",
      "\n",
      "           0       0.99      0.97      0.98       354\n",
      "           1       0.81      0.93      0.87        46\n",
      "\n",
      "    accuracy                           0.97       400\n",
      "   macro avg       0.90      0.95      0.93       400\n",
      "weighted avg       0.97      0.97      0.97       400\n",
      "\n"
     ]
    }
   ],
   "source": [
    "# --- Entraînement du modèle ---\n",
    "\n",
    "# Définition des features (X) et de la cible (y)\n",
    "features = [\n",
    "    'duree_retard_minutes', \n",
    "    'nb_retards_mois_precedent', \n",
    "    'charge_travail_equipe_jour', \n",
    "    'est_debut_semaine'\n",
    "]\n",
    "target = 'decision_reelle'\n",
    "\n",
    "X = df_retards[features]\n",
    "y = df_retards[target]\n",
    "\n",
    "# Division des données en ensembles d'entraînement et de test\n",
    "X_train, X_test, y_train, y_test = train_test_split(X, y, test_size=0.2, random_state=42, stratify=y)\n",
    "\n",
    "# Création et entraînement du modèle\n",
    "model = LogisticRegression(random_state=42)\n",
    "model.fit(X_train, y_train)\n",
    "\n",
    "print(\"Modèle entraîné avec succès !\")\n",
    "\n",
    "# Évaluation du modèle\n",
    "y_pred = model.predict(X_test)\n",
    "print(\"\\nRapport de classification sur l'ensemble de test :\")\n",
    "print(classification_report(y_test, y_pred))"
   ]
  },
  {
   "cell_type": "code",
   "execution_count": 4,
   "id": "72b137e4-d323-414d-8571-c55a04aee749",
   "metadata": {},
   "outputs": [
    {
     "name": "stdout",
     "output_type": "stream",
     "text": [
      "\n",
      "Le modèle a été sauvegardé avec succès dans le fichier 'model_retards_contextuel.pkl'\n"
     ]
    }
   ],
   "source": [
    "# --- Sauvegarde du modèle entraîné ---\n",
    "\n",
    "model_filename = 'model_retards_contextuel.pkl'\n",
    "with open(model_filename, 'wb') as file:\n",
    "    pickle.dump(model, file)\n",
    "\n",
    "print(f\"\\nLe modèle a été sauvegardé avec succès dans le fichier '{model_filename}'\")"
   ]
  },
  {
   "cell_type": "code",
   "execution_count": null,
   "id": "a75bf44a-3e28-42ab-bef7-d71aae9db387",
   "metadata": {},
   "outputs": [],
   "source": []
  }
 ],
 "metadata": {
  "kernelspec": {
   "display_name": "Python 3 (ipykernel)",
   "language": "python",
   "name": "python3"
  },
  "language_info": {
   "codemirror_mode": {
    "name": "ipython",
    "version": 3
   },
   "file_extension": ".py",
   "mimetype": "text/x-python",
   "name": "python",
   "nbconvert_exporter": "python",
   "pygments_lexer": "ipython3",
   "version": "3.13.5"
  }
 },
 "nbformat": 4,
 "nbformat_minor": 5
}
